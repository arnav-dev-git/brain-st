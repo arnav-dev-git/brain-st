{
 "cells": [
  {
   "cell_type": "code",
   "execution_count": 4,
   "id": "e41ea1a0",
   "metadata": {},
   "outputs": [
    {
     "data": {
      "text/plain": [
       "0.9348044132397192"
      ]
     },
     "execution_count": 4,
     "metadata": {},
     "output_type": "execute_result"
    }
   ],
   "source": [
    "import numpy as np\n",
    "import pandas as pd\n",
    "%matplotlib inline\n",
    "import matplotlib.pyplot as plt\n",
    "# import seaborn as sns\n",
    "import os\n",
    "import warnings\n",
    "warnings.filterwarnings(\"ignore\")\n",
    "from sklearn.model_selection import train_test_split\n",
    "from sklearn.preprocessing import OneHotEncoder, StandardScaler\n",
    "from sklearn.metrics import accuracy_score\n",
    "from sklearn.ensemble import RandomForestClassifier\n",
    "from sklearn.svm import SVC\n",
    "from sklearn.neighbors import KNeighborsClassifier\n",
    "\n",
    "df = pd.read_csv('brain_stroke.csv')\n",
    "df.loc[ df['age'] <= 25, 'age'] = 0\n",
    "df.loc[(df['age'] > 25) & (df['age'] <= 39), 'age'] = 1\n",
    "df.loc[(df['age'] > 39) & (df['age'] <= 59), 'age'] = 2\n",
    "df.loc[ df['age'] > 59, 'age'] = 3\n",
    "df.loc[ df['bmi'] <= 23, 'bmi'] = 0\n",
    "df.loc[(df['bmi'] > 23) & (df['bmi'] <= 28), 'bmi'] = 1\n",
    "df.loc[(df['bmi'] > 28) & (df['bmi'] <= 32), 'bmi'] = 2\n",
    "df.loc[ df['bmi'] > 32, 'bmi'] = 3\n",
    "df.loc[ df['avg_glucose_level'] <= 50, 'avg_glucose_level'] = 0\n",
    "df.loc[(df['avg_glucose_level'] > 50) & (df['avg_glucose_level'] <= 100), 'avg_glucose_level'] = 1\n",
    "df.loc[(df['avg_glucose_level'] > 100) & (df['avg_glucose_level'] <= 150), 'avg_glucose_level'] = 2\n",
    "df.loc[(df['avg_glucose_level'] > 150) & (df['avg_glucose_level'] <= 200), 'avg_glucose_level'] = 3\n",
    "df.loc[ df['avg_glucose_level'] > 200, 'avg_glucose_level'] = 4\n",
    "def to_numerical(feature: str):\n",
    "    mapping = {}\n",
    "    labels = df[feature].unique()\n",
    "    for x, y in zip(labels, range(len(labels))):\n",
    "        mapping[x] = y\n",
    "    df[feature] = df[feature].map(mapping)\n",
    "\n",
    "string_features = ['gender', 'ever_married', 'work_type', 'Residence_type', 'smoking_status']\n",
    "for feature in string_features:\n",
    "    to_numerical(feature)  \n",
    "X = df.drop('stroke',axis=1)\n",
    "y = df.stroke\n",
    "X_train,X_test,y_train,y_test = train_test_split(X,y,test_size=0.2, random_state=42)\n",
    "rf_c = RandomForestClassifier()\n",
    "rf_c.fit(X_train, y_train)\n",
    "rf_c.score(X_test, y_test)"
   ]
  },
  {
   "cell_type": "code",
   "execution_count": 5,
   "id": "d2ad59cb",
   "metadata": {},
   "outputs": [
    {
     "name": "stdout",
     "output_type": "stream",
     "text": [
      "Prediction: [1]\n"
     ]
    }
   ],
   "source": [
    "features = np.array([[1,3,1,1,1,2,4,3,2,1]])\n",
    "prediction = rf_c.predict(features)\n",
    "print(\"Prediction: {}\".format(prediction))"
   ]
  },
  {
   "cell_type": "code",
   "execution_count": null,
   "id": "97de901c",
   "metadata": {},
   "outputs": [],
   "source": []
  }
 ],
 "metadata": {
  "kernelspec": {
   "display_name": "Python 3.10.8 64-bit",
   "language": "python",
   "name": "python3"
  },
  "language_info": {
   "codemirror_mode": {
    "name": "ipython",
    "version": 3
   },
   "file_extension": ".py",
   "mimetype": "text/x-python",
   "name": "python",
   "nbconvert_exporter": "python",
   "pygments_lexer": "ipython3",
   "version": "3.10.8"
  },
  "vscode": {
   "interpreter": {
    "hash": "369f2c481f4da34e4445cda3fffd2e751bd1c4d706f27375911949ba6bb62e1c"
   }
  }
 },
 "nbformat": 4,
 "nbformat_minor": 5
}
